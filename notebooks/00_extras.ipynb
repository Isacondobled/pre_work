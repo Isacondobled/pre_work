{
 "cells": [
  {
   "cell_type": "code",
   "execution_count": null,
   "id": "1f94a0a3",
   "metadata": {},
   "outputs": [],
   "source": [
    "df_baking[\"country\"].describe(include=\"all\")\n",
    "df_baking.describe(include=\"category\").T\n",
    "df_baking[df_baking[\"bathrooms\"] > 10]\n",
    "df_baking[df_baking[\"price\"] == 0]\n",
    "df_baking[\"price\"].mean()\n",
    "df_baking[df_baking[\"price\"] != 0][\"price\"].median()\n",
    "df_baking[(df_baking[\"price\"] != 0) & (df_baking[\"price\"] < 282048)][\"price\"].mean()\n",
    "\n",
    "my_list = [3,4,7,8,8] #mutable\n",
    "my_list\n",
    "\n",
    "my_list[0] = 5\n",
    "my_list\n",
    "my_tuple = (5.5,3.14) #inmutable\n",
    "my_tuple[0] = 10\n",
    "\n",
    "my_dict = {\n",
    "    \"age\":10,\n",
    "    \"name\":\"Joe\",\n",
    "    \"list\":[1,2,3]\n",
    "}\n",
    "my_dict[\"name\"]\n",
    "\n",
    "my_df = pd.DataFrame({\n",
    "    \"name\":[\"Joe\",\"Jack\",\"Jane\"],\n",
    "    \"age\":[21,22,23]\n",
    "})\n",
    "my_df\n",
    "\n",
    "display(df_baking[\"rooms\"].max()) #[serie] [[dataframe]]\n",
    "display(df_baking[\"rooms\"].min())\n",
    "display(df_baking[\"rooms\"].mean())\n",
    "display(df_baking[\"rooms\"].isna().sum())\n",
    "display(df_baking[\"rooms\"].describe())\n",
    "\n",
    "df_baking[\"rooms\"].isna().sum() / df_baking.shape[0]\n",
    "df_baking[[\"rooms\",\"bathrooms\"]].max()\n",
    "df_baking.describe(include=\"category\")\n",
    "df_baking[df_baking[\"realestate_name\"] == \"engel volkers madrid\"]\n",
    "\n"
   ]
  },
  {
   "cell_type": "code",
   "execution_count": 1,
   "id": "9fbe62b4",
   "metadata": {},
   "outputs": [
    {
     "data": {
      "text/html": [
       "<div>\n",
       "<style scoped>\n",
       "    .dataframe tbody tr th:only-of-type {\n",
       "        vertical-align: middle;\n",
       "    }\n",
       "\n",
       "    .dataframe tbody tr th {\n",
       "        vertical-align: top;\n",
       "    }\n",
       "\n",
       "    .dataframe thead th {\n",
       "        text-align: right;\n",
       "    }\n",
       "</style>\n",
       "<table border=\"1\" class=\"dataframe\">\n",
       "  <thead>\n",
       "    <tr style=\"text-align: right;\">\n",
       "      <th></th>\n",
       "      <th>Country</th>\n",
       "      <th>City</th>\n",
       "      <th>Numbers</th>\n",
       "    </tr>\n",
       "  </thead>\n",
       "  <tbody>\n",
       "    <tr>\n",
       "      <th>0</th>\n",
       "      <td>Spain</td>\n",
       "      <td>Madrid</td>\n",
       "      <td>3</td>\n",
       "    </tr>\n",
       "    <tr>\n",
       "      <th>1</th>\n",
       "      <td>Spain</td>\n",
       "      <td>Madrid</td>\n",
       "      <td>4</td>\n",
       "    </tr>\n",
       "    <tr>\n",
       "      <th>2</th>\n",
       "      <td>Spain</td>\n",
       "      <td>Madrid</td>\n",
       "      <td>5</td>\n",
       "    </tr>\n",
       "    <tr>\n",
       "      <th>3</th>\n",
       "      <td>Spain</td>\n",
       "      <td>Galicia</td>\n",
       "      <td>7</td>\n",
       "    </tr>\n",
       "    <tr>\n",
       "      <th>4</th>\n",
       "      <td>Spain</td>\n",
       "      <td>Galicia</td>\n",
       "      <td>9</td>\n",
       "    </tr>\n",
       "  </tbody>\n",
       "</table>\n",
       "</div>"
      ],
      "text/plain": [
       "  Country     City  Numbers\n",
       "0   Spain   Madrid        3\n",
       "1   Spain   Madrid        4\n",
       "2   Spain   Madrid        5\n",
       "3   Spain  Galicia        7\n",
       "4   Spain  Galicia        9"
      ]
     },
     "execution_count": 1,
     "metadata": {},
     "output_type": "execute_result"
    }
   ],
   "source": [
    "import pandas as pd\n",
    "my_df = pd.DataFrame({\n",
    "    \"Country\":[\"Spain\", \"Spain\", \"Spain\", \"Spain\", \"Spain\"],\n",
    "    \"City\":[\"Madrid\",\"Madrid\",\"Madrid\",\"Galicia\",\"Galicia\"],\n",
    "    \"Numbers\":[3,4,5,7,9]\n",
    "})\n",
    "my_df"
   ]
  },
  {
   "cell_type": "code",
   "execution_count": 4,
   "id": "9d1a28fb",
   "metadata": {},
   "outputs": [
    {
     "data": {
      "text/plain": [
       "City\n",
       "Galicia    8.0\n",
       "Madrid     4.0\n",
       "Name: Numbers, dtype: float64"
      ]
     },
     "execution_count": 4,
     "metadata": {},
     "output_type": "execute_result"
    }
   ],
   "source": [
    "my_df.groupby(by=\"City\")[\"Numbers\"].mean()"
   ]
  },
  {
   "cell_type": "code",
   "execution_count": 5,
   "id": "5cbc0836",
   "metadata": {},
   "outputs": [
    {
     "data": {
      "text/plain": [
       "City\n",
       "Galicia    7\n",
       "Madrid     3\n",
       "Name: Numbers, dtype: int64"
      ]
     },
     "execution_count": 5,
     "metadata": {},
     "output_type": "execute_result"
    }
   ],
   "source": [
    "my_df.groupby(by=\"City\")[\"Numbers\"].min()"
   ]
  },
  {
   "cell_type": "code",
   "execution_count": null,
   "id": "39e7d177",
   "metadata": {},
   "outputs": [],
   "source": [
    "my_list = [7,9,11,13,15]\n",
    "for i in my_list:\n",
    "    print(i)"
   ]
  }
 ],
 "metadata": {
  "kernelspec": {
   "display_name": ".venv",
   "language": "python",
   "name": "python3"
  },
  "language_info": {
   "codemirror_mode": {
    "name": "ipython",
    "version": 3
   },
   "file_extension": ".py",
   "mimetype": "text/x-python",
   "name": "python",
   "nbconvert_exporter": "python",
   "pygments_lexer": "ipython3",
   "version": "3.12.1"
  }
 },
 "nbformat": 4,
 "nbformat_minor": 5
}
